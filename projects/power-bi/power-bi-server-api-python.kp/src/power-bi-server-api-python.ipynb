{
 "cells": [
  {
   "cell_type": "raw",
   "metadata": {},
   "source": [
    "---\n",
    "title: Power Bi Server API Python\n",
    "authors:\n",
    "- sergiovalero92@gmail.com\n",
    "tags:\n",
    "- powerbi\n",
    "- api\n",
    "created_at: 2020-01-07\n",
    "updated_at: 2020-01-19\n",
    "tldr: Power Bi Server API Python.\n",
    "---"
   ]
  },
  {
   "cell_type": "markdown",
   "metadata": {},
   "source": [
    "## Power Bi Server API Python"
   ]
  },
  {
   "cell_type": "markdown",
   "metadata": {},
   "source": [
    "This script update the policies of a specific folder using a user_list_to_append and all her reports roles based on a roleName.\n",
    "\n",
    "Notes: \n",
    "- There is a swagger(<https://app.swaggerhub.com/apis/microsoft-rs/PBIRS/2.0>)\n",
    "- Tou will need to install requests_ntlm:\n",
    "    - pip3 install requests_ntlm\n",
    "- At the end of the file there are payloads examples"
   ]
  },
  {
   "cell_type": "code",
   "execution_count": null,
   "metadata": {},
   "outputs": [],
   "source": [
    "import requests\n",
    "import json\n",
    "import re\n",
    "\n",
    "from requests_ntlm import HttpNtlmAuth"
   ]
  },
  {
   "cell_type": "code",
   "execution_count": null,
   "metadata": {},
   "outputs": [],
   "source": [
    "url='http://fill_me'\n",
    "domain ='domain\\\\'\n",
    "auth=HttpNtlmAuth(domain + 'user', 'pass')\n",
    "headersGet = {'accept': 'application/json'}\n",
    "headersPut = {'accept': 'application/json', 'content-type': 'application/json'}\n",
    "\n",
    "foder_path = '/fill me'\n",
    "\n",
    "user_list_to_append = [\n",
    "  { 'name' : 'user1', 'role': 'Content Manager'},\n",
    "  { 'name' : 'user2', 'role': 'Content Manager'}\n",
    "]\n",
    "\n",
    "roleName = 'Role Filter'"
   ]
  },
  {
   "cell_type": "markdown",
   "metadata": {},
   "source": [
    "## Functions"
   ]
  },
  {
   "cell_type": "code",
   "execution_count": null,
   "metadata": {},
   "outputs": [],
   "source": [
    "def get_folder_id(folder_path):\n",
    "  response = requests.get(\n",
    "    url + '/Folders', \n",
    "    auth=auth, \n",
    "    headers=headersGet\n",
    "  )\n",
    "  folders = json.loads(response.text)\n",
    "  for folder in folders[\"value\"]:\n",
    "    if folder['Path'] == folder_path:\n",
    "      return folder['Id']\n",
    "\n",
    "def get_folder_policies(folder_id):\n",
    "  response = requests.get(\n",
    "    url + '/Folders('+folder_id+')/Policies', \n",
    "    auth=auth, \n",
    "    headers=headersGet\n",
    "  )\n",
    "  policies = json.loads(response.text)\n",
    "  return policies['Policies']\n",
    "\n",
    "def create_policie(usr_name, role):\n",
    "  group_user_name = domain+usr_name\n",
    "  if role == \"Content Manager\":\n",
    "    return {\n",
    "            \"GroupUserName\":group_user_name,\"Roles\":[\n",
    "              {\n",
    "                \"Name\":\"Content Manager\",\"Description\":\"May manage content in the Report Server.  This includes folders, reports and resources.\"\n",
    "              }\n",
    "            ]\n",
    "          }\n",
    "  elif role == \"Browser\":\n",
    "    return {\n",
    "            \"GroupUserName\":group_user_name,\"Roles\":[\n",
    "              {\n",
    "                \"Name\":\"Browser\",\"Description\":\"May view folders, reports and subscribe to reports.\"\n",
    "              }\n",
    "            ]\n",
    "          }\n",
    "\n",
    "def is_the_policie_duplicate(name, groupUserName):\n",
    "  return domain+name == groupUserName\n",
    "\n",
    "def append_policies_and_remove_duplicates(policies, user_list_to_append):\n",
    "  for user in user_list_to_append:\n",
    "    policies[\"Policies\"][:] = [policie\n",
    "      for policie in policies[\"Policies\"] if not is_the_policie_duplicate(user['name'], policie[\"GroupUserName\"])]\n",
    "    policies[\"Policies\"].append(create_policie(user['name'],user['role']))\n",
    "  return (policies)\n",
    "\n",
    "def put_policies(folder_id, payload_put_policies):\n",
    "  return requests.put(\n",
    "    url + '/Folders('+folder_id+')/Policies', \n",
    "    auth=auth, \n",
    "    headers=headersPut, \n",
    "    data=json.dumps(payload_put_policies)\n",
    "  )\n",
    "\n",
    "def is_in_folder(parentFolderId, folder_id):\n",
    "  return parentFolderId == folder_id\n",
    "\n",
    "\n",
    "def get_reports_ids(folder_id):\n",
    "  response = requests.get(\n",
    "    url + '/PowerBIReports', \n",
    "    auth=auth, \n",
    "    headers=headersGet\n",
    "  )\n",
    "  reports = json.loads(response.text)['value']\n",
    "\n",
    "  reports[:] = [report\n",
    "      for report in reports if is_in_folder(report['ParentFolderId'], folder_id) ]\n",
    "\n",
    "  reports_ids = []\n",
    "\n",
    "  for report in reports:\n",
    "    reports_ids.append(report['Id'])\n",
    "\n",
    "  return reports_ids\n",
    "\n",
    "def can_find_role_name(modelRoleName, roleName):\n",
    "  return modelRoleName == roleName\n",
    "\n",
    "def get_role_id_by_role_name(report_id, roleName):\n",
    "  response = requests.get(\n",
    "    url + '/PowerBIReports('+report_id+')/DataModelRoles', \n",
    "    auth=auth, \n",
    "    headers=headersGet\n",
    "  )\n",
    "  roles = json.loads(response.text)['value']\n",
    "  \n",
    "  roles [:] = [role_id\n",
    "      for role_id in roles if can_find_role_name(role_id['ModelRoleName'], roleName) ]\n",
    "\n",
    "  roles_ids = []\n",
    "\n",
    "  for role in roles:\n",
    "    roles_ids.append(role['ModelRoleId'])\n",
    "\n",
    "  return roles_ids\n",
    "\n",
    "def get_roles(report_id):\n",
    "  response = requests.get(\n",
    "    url + '/PowerBIReports('+report_id+')/DataModelRoleAssignments', \n",
    "    auth=auth, \n",
    "    headers=headersGet\n",
    "  )\n",
    "  return json.loads(response.text)['value'] \n",
    "  \n",
    "def create_role(usr_name, roles_id):\n",
    "  group_user_name = domain + usr_name\n",
    "  return {\n",
    "    \"GroupUserName\": group_user_name,\n",
    "    \"DataModelRoles\": roles_id\n",
    "  }\n",
    "\n",
    "def not_exist_the_role_in_users (users, groupUserName):\n",
    "  for user in users:\n",
    "    if domain + user['name'] == groupUserName:\n",
    "      return False\n",
    "  return True\n",
    "\n",
    "def not_exist_the_user_in_roles (roles, name):\n",
    "  for role in roles:\n",
    "    if role['GroupUserName'] == domain + name:\n",
    "      return False\n",
    "  return True\n",
    "\n",
    "def exist_the_role_in_users (users, groupUserName):\n",
    "  for user in users:\n",
    "    if domain + user['name'] == groupUserName:\n",
    "      return True\n",
    "  return False\n",
    "\n",
    "def add_reports_id_to_roles (role, roles_id):\n",
    "  roles_to_replace = list( dict.fromkeys(roles_id + role['DataModelRoles']))\n",
    "  return {\n",
    "    \"GroupUserName\": role['GroupUserName'],\n",
    "    \"DataModelRoles\": roles_to_replace\n",
    "  }\n",
    "\n",
    "def append_roles_and_remove_duplicates(roles, roles_id, users):\n",
    "  if len(roles_id) > 0:\n",
    "    roles_to_return = []\n",
    "    for user in users:\n",
    "      if not_exist_the_user_in_roles(roles, user['name']):\n",
    "        roles_to_return.append(create_role(user['name'],roles_id))\n",
    "    \n",
    "    for role in roles:\n",
    "      if not_exist_the_role_in_users(users, role['GroupUserName']):\n",
    "        roles_to_return.append(role)\n",
    "\n",
    "    for role in roles:\n",
    "      if exist_the_role_in_users(users, role['GroupUserName']):\n",
    "        roles_to_return.append(add_reports_id_to_roles(role, roles_id))\n",
    "\n",
    "    return roles_to_return\n",
    "  else:\n",
    "    return []\n",
    "\n",
    "\n",
    "def put_roles(report_id, payload_put_roles):\n",
    "  return requests.put(\n",
    "    url + '/PowerBIReports('+report_id+')/DataModelRoleAssignments', \n",
    "    auth=auth, \n",
    "    headers=headersPut, \n",
    "    data=json.dumps(payload_put_roles)\n",
    "  )\n",
    "\n",
    "def get_folder_policies_users(folder_id):\n",
    "  policies = get_folder_policies(folder_id)\n",
    "  users = []\n",
    "  for policie in policies:\n",
    "    name = re.sub(domain+'\\\\', '', policie['GroupUserName'])\n",
    "    users.append({'name': name})\n",
    "  return users\n"
   ]
  },
  {
   "cell_type": "markdown",
   "metadata": {},
   "source": [
    "## The mambo start here."
   ]
  },
  {
   "cell_type": "markdown",
   "metadata": {},
   "source": [
    "### Get folder id using foder_path variable defined above"
   ]
  },
  {
   "cell_type": "code",
   "execution_count": null,
   "metadata": {
    "scrolled": true
   },
   "outputs": [],
   "source": [
    "folder_id = get_folder_id(foder_path) \n",
    "folder_id"
   ]
  },
  {
   "cell_type": "code",
   "execution_count": null,
   "metadata": {},
   "outputs": [],
   "source": [
    "# Payloads for policies\n",
    "policies = {\n",
    "    \"Policies\": get_folder_policies(folder_id)\n",
    "  } "
   ]
  },
  {
   "cell_type": "markdown",
   "metadata": {},
   "source": [
    "### Update payloads from policies based on then variable user_list_to_append defined above"
   ]
  },
  {
   "cell_type": "code",
   "execution_count": null,
   "metadata": {},
   "outputs": [],
   "source": [
    "put_policies(folder_id, append_policies_and_remove_duplicates(policies, user_list_to_append))"
   ]
  },
  {
   "cell_type": "markdown",
   "metadata": {},
   "source": [
    "### For all reports inside the foder_path update roles using roleName."
   ]
  },
  {
   "cell_type": "code",
   "execution_count": null,
   "metadata": {
    "scrolled": true
   },
   "outputs": [],
   "source": [
    "for report_id in get_reports_ids(folder_id):\n",
    "  roles_to_put = append_roles_and_remove_duplicates(\n",
    "      get_roles(report_id), \n",
    "      get_role_id_by_role_name(report_id, roleName), \n",
    "      get_folder_policies_users(folder_id)\n",
    "    ) \n",
    "  if len(roles_to_put) > 0: \n",
    "    put_roles(report_id, roles_to_put)"
   ]
  },
  {
   "cell_type": "markdown",
   "metadata": {},
   "source": [
    "## Appendix"
   ]
  },
  {
   "cell_type": "code",
   "execution_count": null,
   "metadata": {},
   "outputs": [],
   "source": [
    "# Payloads for puts. Note: Is diferent from the swagger (https://app.swaggerhub.com/apis/microsoft-rs/PBIRS/2.0#)\n",
    "payload_add_policies = {\n",
    "    \"Policies\": [\n",
    "        {\n",
    "          \"GroupUserName\":\"domain\\\\user\",\"Roles\":[\n",
    "            {\n",
    "              \"Name\":\"Content Manager\",\"Description\":\"May manage content in the Report Server.  This includes folders, reports and resources.\"\n",
    "            }\n",
    "          ]\n",
    "        },\n",
    "        {\n",
    "          \"GroupUserName\":\"domain\\\\user\",\"Roles\":[\n",
    "            {\n",
    "              \"Name\":\"Content Manager\",\"Description\":\"May manage content in the Report Server.  This includes folders, reports and resources.\"\n",
    "            }\n",
    "          ]\n",
    "        }\n",
    "    ]\n",
    "  }\n",
    "\n",
    "payload_put_roles = [\n",
    "  {\n",
    "    \"GroupUserName\": \"domain\\\\user\",\n",
    "    \"DataModelRoles\": [\n",
    "      \"9a8716af-bfd3-45ae-ab7e-65cc550e9599\"\n",
    "    ]\n",
    "  }\n",
    "]"
   ]
  }
 ],
 "metadata": {
  "hide_input": false,
  "kernelspec": {
   "display_name": "Python 3",
   "language": "python",
   "name": "python3"
  },
  "language_info": {
   "codemirror_mode": {
    "name": "ipython",
    "version": 3
   },
   "file_extension": ".py",
   "mimetype": "text/x-python",
   "name": "python",
   "nbconvert_exporter": "python",
   "pygments_lexer": "ipython3",
   "version": "3.7.4"
  }
 },
 "nbformat": 4,
 "nbformat_minor": 1
}