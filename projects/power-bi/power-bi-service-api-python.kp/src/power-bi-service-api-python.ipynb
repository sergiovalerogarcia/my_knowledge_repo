{
 "cells": [
  {
   "cell_type": "raw",
   "metadata": {},
   "source": [
    "---\n",
    "title: Power Bi Service API Python\n",
    "authors:\n",
    "- sergiovalero92@gmail.com\n",
    "tags:\n",
    "- powerbi\n",
    "- api\n",
    "created_at: 2020-01-07\n",
    "updated_at: 2020-01-17\n",
    "tldr: Power Bi Service API Python.\n",
    "---"
   ]
  },
  {
   "cell_type": "markdown",
   "metadata": {},
   "source": [
    "# Power Bi Service API Python"
   ]
  },
  {
   "cell_type": "markdown",
   "metadata": {},
   "source": [
    "## Publish an app\n",
    "\n",
    "Publish an app: https://dev.powerbi.com/apps\n",
    "\n",
    "allowPublicClient: \n",
    "    1. https://portal.azure.com/\n",
    "    2. App registrations\n",
    "    3. Select you app \n",
    "    4. Manifest\n",
    "    5. \"allowPublicClient\": true"
   ]
  },
  {
   "cell_type": "markdown",
   "metadata": {},
   "source": [
    "## API Documentation\n",
    "https://docs.microsoft.com/en-us/rest/api/power-bi/"
   ]
  },
  {
   "cell_type": "markdown",
   "metadata": {},
   "source": [
    "## Code"
   ]
  },
  {
   "cell_type": "code",
   "execution_count": null,
   "metadata": {},
   "outputs": [],
   "source": [
    "import adal\n",
    "import requests\n",
    "from adal import AuthenticationContext"
   ]
  },
  {
   "cell_type": "code",
   "execution_count": null,
   "metadata": {},
   "outputs": [],
   "source": [
    "url_base = \"https://api.powerbi.com/v1.0/myorg/\" \n",
    "reportId = \"fill_me\"\n",
    "groupId = \"fill_me\" #workspace\n",
    "targetWorkspaceId = \"fill_me\""
   ]
  },
  {
   "cell_type": "markdown",
   "metadata": {},
   "source": [
    "### Get token"
   ]
  },
  {
   "cell_type": "code",
   "execution_count": null,
   "metadata": {
    "scrolled": true
   },
   "outputs": [],
   "source": [
    "def authenticate_device_code():\n",
    "    authority_host_uri = 'https://login.microsoftonline.com'\n",
    "    tenant = 'fill_me'\n",
    "    authority_uri = authority_host_uri + '/' + tenant\n",
    "    resource_uri = 'https://analysis.windows.net/powerbi/api'\n",
    "    client_id = 'fill_me'\n",
    "\n",
    "    context = adal.AuthenticationContext(authority_uri, api_version=None)\n",
    "    code = context.acquire_user_code(resource_uri, client_id)\n",
    "    print(code['message'])\n",
    "    mgmt_token = context.acquire_token_with_device_code(resource_uri, code, client_id)\n",
    "    return mgmt_token"
   ]
  },
  {
   "cell_type": "code",
   "execution_count": null,
   "metadata": {
    "scrolled": true
   },
   "outputs": [],
   "source": [
    "accessToken = authenticate_device_code()['accessToken']\n",
    "\n",
    "headers = {\n",
    "    \"Authorization\": \"Bearer \" + accessToken\n",
    "}\n"
   ]
  },
  {
   "cell_type": "markdown",
   "metadata": {},
   "source": [
    "### Get reports"
   ]
  },
  {
   "cell_type": "code",
   "execution_count": null,
   "metadata": {
    "scrolled": true
   },
   "outputs": [],
   "source": [
    "response = requests.get(url_base + \"reports\", headers=headers"
   ]
  },
  {
   "cell_type": "code",
   "execution_count": null,
   "metadata": {
    "scrolled": true
   },
   "outputs": [],
   "source": [
    "url = url_base + \"groups/\" + groupId + \"/reports/\" + reportId\n",
    "response = requests.delete(url, headers=headers)"
   ]
  },
  {
   "cell_type": "code",
   "execution_count": null,
   "metadata": {},
   "outputs": [],
   "source": [
    "url = url_base + \"groups/\" + groupId + \"/reports/\" + reportId + \"/Clone\"\n",
    "data={\n",
    "    'name': 'task',\n",
    "    'targetWorkspaceId': targetWorkspaceId\n",
    "}\n",
    "response = requests.post(url, headers=headers, data=data)\n"
   ]
  },
  {
   "cell_type": "code",
   "execution_count": null,
   "metadata": {},
   "outputs": [],
   "source": [
    "url = url_base + \"groups/\" + groupId + \"/reports/\" + reportId + \"/Clone\"\n",
    "data={\n",
    "    'name': 'task',\n",
    "    'targetWorkspaceId': targetWorkspaceId\n",
    "}\n",
    "# response = requests.post(url, headers=headers, data=data)\n",
    "# print (response)\n"
   ]
  },
  {
   "cell_type": "code",
   "execution_count": null,
   "metadata": {},
   "outputs": [],
   "source": [
    "url = url_base + \"groups/\" + groupId + \"/reports/\" + reportId + \"/Export\"\n",
    "\n",
    "response = requests.get(url, headers=headers)\n",
    "print (response)\n",
    "\n",
    "with open('fill_me.pbix', 'wb') as file:\n",
    "    file.write(response.content)\n"
   ]
  }
 ],
 "metadata": {
  "hide_input": false,
  "kernelspec": {
   "display_name": "Python 3",
   "language": "python",
   "name": "python3"
  },
  "language_info": {
   "codemirror_mode": {
    "name": "ipython",
    "version": 3
   },
   "file_extension": ".py",
   "mimetype": "text/x-python",
   "name": "python",
   "nbconvert_exporter": "python",
   "pygments_lexer": "ipython3",
   "version": "3.7.4"
  }
 },
 "nbformat": 4,
 "nbformat_minor": 1
}